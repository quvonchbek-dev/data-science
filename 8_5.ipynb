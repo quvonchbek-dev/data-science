{
 "cells": [
  {
   "cell_type": "markdown",
   "id": "26f867c8",
   "metadata": {},
   "source": [
    "## Запрос №5\n",
    "Напишите запрос, выбирающий имена и фамилии сотрудников на \n",
    "основе информации из таблицы employees. Должны быть выбраны записи \n",
    "только для тех сотрудников, которые выполняют менеджерские функции \n",
    "(для которых их номер employee_id встречается в столбце manager_id той же \n",
    "таблицы). Решите эту задачу при помощи многострочного подзапроса. \n",
    "Пример возможного результата выполнения запроса представлен в \n",
    "таблице ниже. Поля должны называться так же, как указано в примере"
   ]
  },
  {
   "cell_type": "code",
   "execution_count": 4,
   "id": "1d69907e",
   "metadata": {},
   "outputs": [
    {
     "name": "stdout",
     "output_type": "stream",
     "text": [
      "+---------+---------+\n",
      "|      Имя|  Фамилия|\n",
      "+---------+---------+\n",
      "|    Eleni|  Zlotkey|\n",
      "|Alexander|   Hunold|\n",
      "|    Neena|  Kochhar|\n",
      "|      Lex|  De Haan|\n",
      "|  Shelley|  Higgins|\n",
      "|   Shanta|  Vollman|\n",
      "|  Alberto|Errazuriz|\n",
      "|      Den| Raphaely|\n",
      "|    Nancy|Greenberg|\n",
      "|  Michael|Hartstein|\n",
      "|  Matthew|    Weiss|\n",
      "|     Adam|    Fripp|\n",
      "|    Payam| Kaufling|\n",
      "|    Kevin|  Mourgos|\n",
      "|   Gerald|Cambrault|\n",
      "|     John|  Russell|\n",
      "|   Steven|     King|\n",
      "|    Karen| Partners|\n",
      "+---------+---------+\n",
      "\n"
     ]
    }
   ],
   "source": [
    "from pyspark.sql import SparkSession\n",
    "from pyspark.sql.functions import col\n",
    "\n",
    "\n",
    "spark = SparkSession.builder.master(\"local\").getOrCreate()\n",
    "\n",
    "empDf = spark.read.parquet(\"data/employees.parquet\")\n",
    "\n",
    "m_id = empDf.select(\"manager_id\")\n",
    "df = empDf.select(\"employee_id\", \"first_name\", \"last_name\")\n",
    "(\n",
    "    df.join(m_id, df.employee_id == m_id.manager_id)\n",
    "    .dropDuplicates()\n",
    "    .select(col(\"first_name\").alias(\"Имя\"), col(\"last_name\").alias(\"Фамилия\"))\n",
    ").show()"
   ]
  },
  {
   "cell_type": "code",
   "execution_count": null,
   "id": "62af29a6",
   "metadata": {},
   "outputs": [],
   "source": []
  }
 ],
 "metadata": {
  "kernelspec": {
   "display_name": "venv",
   "language": "python",
   "name": "python3"
  },
  "language_info": {
   "codemirror_mode": {
    "name": "ipython",
    "version": 3
   },
   "file_extension": ".py",
   "mimetype": "text/x-python",
   "name": "python",
   "nbconvert_exporter": "python",
   "pygments_lexer": "ipython3",
   "version": "3.10.8"
  },
  "vscode": {
   "interpreter": {
    "hash": "b389a781dfbb23638dad46b0ca61526fcae620ed023e26de210f45ecc9d3123a"
   }
  }
 },
 "nbformat": 4,
 "nbformat_minor": 5
}

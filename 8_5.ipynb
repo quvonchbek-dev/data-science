{
 "cells": [
  {
   "cell_type": "markdown",
   "id": "26f867c8",
   "metadata": {},
   "source": [
    "## Запрос №5\n",
    "Напишите запрос, выбирающий имена и фамилии сотрудников на \n",
    "основе информации из таблицы employees. Должны быть выбраны записи \n",
    "только для тех сотрудников, которые выполняют менеджерские функции \n",
    "(для которых их номер employee_id встречается в столбце manager_id той же \n",
    "таблицы). Решите эту задачу при помощи многострочного подзапроса. \n",
    "Пример возможного результата выполнения запроса представлен в \n",
    "таблице ниже. Поля должны называться так же, как указано в примере"
   ]
  },
  {
   "cell_type": "code",
   "execution_count": 2,
   "id": "1d69907e",
   "metadata": {},
   "outputs": [
    {
     "name": "stdout",
     "output_type": "stream",
     "text": [
      "+---------+---------+\n",
      "|      Имя|  Фамилия|\n",
      "+---------+---------+\n",
      "|  Shelley|  Higgins|\n",
      "|  Michael|Hartstein|\n",
      "|    Eleni|  Zlotkey|\n",
      "|   Gerald|Cambrault|\n",
      "|  Alberto|Errazuriz|\n",
      "|    Karen| Partners|\n",
      "|     John|  Russell|\n",
      "|    Kevin|  Mourgos|\n",
      "|   Shanta|  Vollman|\n",
      "|    Payam| Kaufling|\n",
      "|     Adam|    Fripp|\n",
      "|  Matthew|    Weiss|\n",
      "|      Den| Raphaely|\n",
      "|    Nancy|Greenberg|\n",
      "|Alexander|   Hunold|\n",
      "|      Lex|  De Haan|\n",
      "|    Neena|  Kochhar|\n",
      "|   Steven|     King|\n",
      "+---------+---------+\n",
      "\n"
     ]
    }
   ],
   "source": [
    "from pyspark.sql import SparkSession\n",
    "from pyspark.sql.functions import col\n",
    "\n",
    "spark = SparkSession.builder.master('local').getOrCreate()\n",
    "\n",
    "empDf = spark.read.parquet('data/employees.parquet')\n",
    "managers = empDf.rdd.map(lambda x: x.manager_id).collect()\n",
    "df = empDf.where(col(\"employee_id\").isin(managers)) \\\n",
    "    .withColumnRenamed(\"first_name\", \"Имя\").withColumnRenamed(\"last_name\", \"Фамилия\")\n",
    "df.sort(df.employee_id.desc()).select(\"Имя\", \"Фамилия\").show()"
   ]
  },
  {
   "cell_type": "code",
   "execution_count": null,
   "id": "62af29a6",
   "metadata": {},
   "outputs": [],
   "source": []
  }
 ],
 "metadata": {
  "kernelspec": {
   "display_name": "Python 3 (ipykernel)",
   "language": "python",
   "name": "python3"
  },
  "language_info": {
   "codemirror_mode": {
    "name": "ipython",
    "version": 3
   },
   "file_extension": ".py",
   "mimetype": "text/x-python",
   "name": "python",
   "nbconvert_exporter": "python",
   "pygments_lexer": "ipython3",
   "version": "3.10.8"
  }
 },
 "nbformat": 4,
 "nbformat_minor": 5
}

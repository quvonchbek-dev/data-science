{
 "cells": [
  {
   "cell_type": "code",
   "execution_count": 1,
   "metadata": {},
   "outputs": [],
   "source": [
    "from pyspark.sql import SparkSession\n",
    "\n",
    "from pyspark.sql.window import Window\n",
    "from pyspark.sql.functions import col, row_number, sum, count\n",
    "\n",
    "spark = SparkSession.builder.master('local').getOrCreate()"
   ]
  },
  {
   "cell_type": "code",
   "execution_count": 2,
   "metadata": {},
   "outputs": [],
   "source": [
    "employees = spark.read.parquet(\"data/employees.parquet\")\n",
    "job_history = spark.read.parquet(\"data/job_history.parquet\")\n",
    "department = spark.read.parquet(\"data/department.parquet\")\n",
    "jobs = spark.read.parquet(\"data/jobs.parquet\")\n",
    "locations = spark.read.parquet(\"data/locations.parquet\")\n",
    "countries = spark.read.parquet(\"data/countries.parquet\")\n",
    "regions = spark.read.parquet(\"data/regions.parquet\")"
   ]
  },
  {
   "cell_type": "code",
   "execution_count": 3,
   "metadata": {},
   "outputs": [],
   "source": [
    "employees.createOrReplaceTempView(\"employees\")\n",
    "job_history.createOrReplaceTempView(\"job_history\")\n",
    "department.createOrReplaceTempView(\"department\")\n",
    "jobs.createOrReplaceTempView(\"jobs\")\n",
    "locations.createOrReplaceTempView(\"locations\")\n",
    "countries.createOrReplaceTempView(\"countries\")\n",
    "regions.createOrReplaceTempView(\"regions\")"
   ]
  },
  {
   "cell_type": "code",
   "execution_count": 4,
   "metadata": {},
   "outputs": [
    {
     "name": "stdout",
     "output_type": "stream",
     "text": [
      "{'011': 35, '650': 45, '515': 21, '603': 1, '590': 5}\n"
     ]
    }
   ],
   "source": [
    "df1 = employees.rdd.map(lambda x: (x[0], x[4].split(\".\")[0])).toDF().withColumnRenamed(\"_1\", \"employee_id\")\n",
    "df2 = dict(employees.join(df1, [\"employee_id\"]).groupBy(df1[1]).count().rdd.map(lambda x: [x[0], x[1]]).collect())\n",
    "print(df2)"
   ]
  },
  {
   "cell_type": "markdown",
   "metadata": {},
   "source": []
  },
  {
   "cell_type": "code",
   "execution_count": null,
   "metadata": {},
   "outputs": [],
   "source": []
  }
 ],
 "metadata": {
  "kernelspec": {
   "display_name": "venv",
   "language": "python",
   "name": "python3"
  },
  "language_info": {
   "codemirror_mode": {
    "name": "ipython",
    "version": 3
   },
   "file_extension": ".py",
   "mimetype": "text/x-python",
   "name": "python",
   "nbconvert_exporter": "python",
   "pygments_lexer": "ipython3",
   "version": "3.10.8"
  },
  "vscode": {
   "interpreter": {
    "hash": "b389a781dfbb23638dad46b0ca61526fcae620ed023e26de210f45ecc9d3123a"
   }
  }
 },
 "nbformat": 4,
 "nbformat_minor": 2
}

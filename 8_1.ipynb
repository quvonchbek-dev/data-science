{
 "cells": [
  {
   "cell_type": "markdown",
   "id": "f8808337",
   "metadata": {},
   "source": [
    "# Запрос №1\n",
    "Напишите запрос, выбирающий информацию об имени и фамилии \n",
    "сотрудника (таблица employees), а также о названии отдела, в котором он \n",
    "работает (таблица departments). При этом выберите только сотрудников\n",
    "отдела IT"
   ]
  },
  {
   "cell_type": "code",
   "execution_count": 4,
   "id": "d96ab0e7",
   "metadata": {},
   "outputs": [
    {
     "name": "stdout",
     "output_type": "stream",
     "text": [
      "+-----------+----------+------+--------------------+\n",
      "| first_name| last_name|salary|           job_title|\n",
      "+-----------+----------+------+--------------------+\n",
      "|    Sundita|     Kumar|6100.0|Sales Representative|\n",
      "|       Amit|     Banda|6200.0|Sales Representative|\n",
      "|    Charles|   Johnson|6200.0|Sales Representative|\n",
      "|     Sundar|      Ande|6400.0|Sales Representative|\n",
      "|      David|       Lee|6800.0|Sales Representative|\n",
      "|  Kimberely|     Grant|7000.0|Sales Representative|\n",
      "|     Oliver|   Tuvault|7000.0|Sales Representative|\n",
      "|     Sarath|    Sewall|7000.0|Sales Representative|\n",
      "|     Mattea|   Marvins|7200.0|Sales Representative|\n",
      "|  Elizabeth|     Bates|7300.0|Sales Representative|\n",
      "|    William|     Smith|7400.0|Sales Representative|\n",
      "|     Louise|     Doran|7500.0|Sales Representative|\n",
      "|    Nanette| Cambrault|7500.0|Sales Representative|\n",
      "|Christopher|     Olsen|8000.0|Sales Representative|\n",
      "|    Lindsey|     Smith|8000.0|Sales Representative|\n",
      "|       Jack|Livingston|8400.0|Sales Representative|\n",
      "|   Jonathon|    Taylor|8600.0|Sales Representative|\n",
      "|     Alyssa|    Hutton|8800.0|Sales Representative|\n",
      "|      Allan|    McEwen|9000.0|Sales Representative|\n",
      "+-----------+----------+------+--------------------+\n",
      "only showing top 19 rows\n",
      "\n"
     ]
    }
   ],
   "source": [
    "from pyspark.sql import SparkSession\n",
    "\n",
    "spark = SparkSession.builder.master('local').getOrCreate()\n",
    "\n",
    "jobDf = spark.read.parquet('data/jobs.parquet')\n",
    "empDf = spark.read.parquet('data/employees.parquet')\n",
    "df = empDf.join(jobDf, ['job_id']) \\\n",
    "    .filter(\"job_title='Sales Representative'\").sort(\"salary\", \"first_name\")\n",
    "df.select(\"first_name\", \"last_name\", \"salary\", \"job_title\").show(19)\n"
   ]
  },
  {
   "cell_type": "code",
   "execution_count": null,
   "id": "5e7151dc",
   "metadata": {},
   "outputs": [],
   "source": []
  }
 ],
 "metadata": {
  "kernelspec": {
   "display_name": "venv",
   "language": "python",
   "name": "python3"
  },
  "language_info": {
   "codemirror_mode": {
    "name": "ipython",
    "version": 3
   },
   "file_extension": ".py",
   "mimetype": "text/x-python",
   "name": "python",
   "nbconvert_exporter": "python",
   "pygments_lexer": "ipython3",
   "version": "3.10.8 (tags/v3.10.8:aaaf517, Oct 11 2022, 16:50:30) [MSC v.1933 64 bit (AMD64)]"
  },
  "vscode": {
   "interpreter": {
    "hash": "b389a781dfbb23638dad46b0ca61526fcae620ed023e26de210f45ecc9d3123a"
   }
  }
 },
 "nbformat": 4,
 "nbformat_minor": 5
}

{
 "cells": [
  {
   "cell_type": "markdown",
   "id": "fa8824bc",
   "metadata": {},
   "source": [
    "## Запрос №4\n",
    "Напишите запрос, выбирающий информацию о фамилии, имени и \n",
    "окладе всех служащих, оклад которых выше среднего. Отсортируйте \n",
    "выходные данные в порядке увеличения окладов. Пример возможного \n",
    "результата выполнения запроса представлен в таблице ниже. Поля \n",
    "должны называться так же, как указано в примере"
   ]
  },
  {
   "cell_type": "code",
   "execution_count": 3,
   "id": "24a2269d",
   "metadata": {},
   "outputs": [
    {
     "name": "stdout",
     "output_type": "stream",
     "text": [
      "+---------+---------+------+\n",
      "|Фамилия_Р|Имя      |Оклад |\n",
      "+---------+---------+------+\n",
      "|Mavris   |Susan    |6500.0|\n",
      "|Vollman  |Shanta   |6500.0|\n",
      "|Lee      |David    |6800.0|\n",
      "|Popp     |Luis     |6900.0|\n",
      "|Grant    |Kimberely|7000.0|\n",
      "|Sewall   |Sarath   |7000.0|\n",
      "|Tuvault  |Oliver   |7000.0|\n",
      "|Marvins  |Mattea   |7200.0|\n",
      "|Bates    |Elizabeth|7300.0|\n",
      "|Smith    |William  |7400.0|\n",
      "+---------+---------+------+\n",
      "only showing top 10 rows\n",
      "\n"
     ]
    }
   ],
   "source": [
    "from pyspark.sql import SparkSession\n",
    "from pyspark.sql.functions import avg, col\n",
    "\n",
    "spark = SparkSession.builder.master(\"local\").getOrCreate()\n",
    "\n",
    "empDf = spark.read.parquet(\"data/employees.parquet\")\n",
    "\n",
    "df = empDf.filter(empDf.salary > empDf.select(avg(\"salary\")).collect()[0][0])\n",
    "\n",
    "df.sort(\"salary\", \"last_name\").select(\n",
    "    col(\"last_name\").alias(\"Фамилия_Р\"),\n",
    "    col(\"first_name\").alias(\"Имя\"),\n",
    "    col(\"salary\").alias(\"Оклад\"),\n",
    ").show(10, truncate=False)"
   ]
  },
  {
   "cell_type": "code",
   "execution_count": null,
   "id": "e4ff306f",
   "metadata": {},
   "outputs": [],
   "source": []
  }
 ],
 "metadata": {
  "kernelspec": {
   "display_name": "venv",
   "language": "python",
   "name": "python3"
  },
  "language_info": {
   "codemirror_mode": {
    "name": "ipython",
    "version": 3
   },
   "file_extension": ".py",
   "mimetype": "text/x-python",
   "name": "python",
   "nbconvert_exporter": "python",
   "pygments_lexer": "ipython3",
   "version": "3.10.8 (tags/v3.10.8:aaaf517, Oct 11 2022, 16:50:30) [MSC v.1933 64 bit (AMD64)]"
  },
  "vscode": {
   "interpreter": {
    "hash": "b389a781dfbb23638dad46b0ca61526fcae620ed023e26de210f45ecc9d3123a"
   }
  }
 },
 "nbformat": 4,
 "nbformat_minor": 5
}

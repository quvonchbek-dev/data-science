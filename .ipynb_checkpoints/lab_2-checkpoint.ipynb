{
 "cells": [
  {
   "cell_type": "code",
   "execution_count": 128,
   "metadata": {},
   "outputs": [],
   "source": [
    "from pyspark.sql import SparkSession\n",
    "\n",
    "from pyspark.sql.window import Window\n",
    "from pyspark.sql.functions import col, row_number\n",
    "\n",
    "spark = SparkSession.builder.master('local').getOrCreate()"
   ]
  },
  {
   "cell_type": "code",
   "execution_count": 129,
   "metadata": {},
   "outputs": [],
   "source": [
    "employees = spark.read.parquet(\"data/employees.parquet\")\n",
    "job_history = spark.read.parquet(\"data/job_history.parquet\")\n",
    "department = spark.read.parquet(\"data/department.parquet\")\n",
    "jobs = spark.read.parquet(\"data/jobs.parquet\")\n",
    "locations = spark.read.parquet(\"data/locations.parquet\")\n",
    "countries = spark.read.parquet(\"data/countries.parquet\")\n",
    "regions = spark.read.parquet(\"data/regions.parquet\")"
   ]
  },
  {
   "cell_type": "code",
   "execution_count": 130,
   "metadata": {},
   "outputs": [],
   "source": [
    "employees.createOrReplaceTempView(\"employees\")\n",
    "job_history.createOrReplaceTempView(\"job_history\")\n",
    "department.createOrReplaceTempView(\"department\")\n",
    "jobs.createOrReplaceTempView(\"jobs\")\n",
    "locations.createOrReplaceTempView(\"locations\")\n",
    "countries.createOrReplaceTempView(\"countries\")\n",
    "regions.createOrReplaceTempView(\"regions\")"
   ]
  },
  {
   "cell_type": "code",
   "execution_count": 131,
   "metadata": {},
   "outputs": [
    {
     "name": "stdout",
     "output_type": "stream",
     "text": [
      "root\n",
      " |-- location_id: integer (nullable = true)\n",
      " |-- street_address: string (nullable = true)\n",
      " |-- postal_code: string (nullable = true)\n",
      " |-- city: string (nullable = true)\n",
      " |-- state_province: string (nullable = true)\n",
      " |-- country_id: string (nullable = true)\n",
      "\n"
     ]
    }
   ],
   "source": [
    "locations.printSchema()"
   ]
  },
  {
   "cell_type": "code",
   "execution_count": 132,
   "metadata": {},
   "outputs": [
    {
     "name": "stdout",
     "output_type": "stream",
     "text": [
      "+-------------+--------------------+-----------+-----------+---------+----------+\n",
      "|department_id|      street_address|employee_id| first_name|last_name| hire_date|\n",
      "+-------------+--------------------+-----------+-----------+---------+----------+\n",
      "|           10|     2004 Charade Rd|        200|   Jennifer|   Whalen|17.09.2003|\n",
      "|           20|     147 Spadina Ave|        201|    Michael|Hartstein|17.02.2004|\n",
      "|           30|     2004 Charade Rd|        114|        Den| Raphaely|07.12.2002|\n",
      "|           40|      8204 Arthur St|        203|      Susan|   Mavris|07.06.2002|\n",
      "|           50| 2011 Interiors Blvd|        122|      Payam| Kaufling|01.05.2003|\n",
      "|           60| 2014 Jabberwocky Rd|        103|  Alexander|   Hunold|03.01.2006|\n",
      "|           70|Schwanthalerstr. ...|        204|    Hermann|     Baer|07.06.2002|\n",
      "|           80|Magdalen Centre, ...|        158|      Allan|   McEwen|01.08.2004|\n",
      "|           90|     2004 Charade Rd|        102|        Lex|  De Haan|13.01.2001|\n",
      "|          100|     2004 Charade Rd|        112|Jose Manuel|    Urman|07.03.2006|\n",
      "|          110|     2004 Charade Rd|        205|    Shelley|  Higgins|07.06.2002|\n",
      "+-------------+--------------------+-----------+-----------+---------+----------+\n",
      "\n"
     ]
    }
   ],
   "source": [
    "df = employees.join(department, [\"department_id\"]).join(locations, [\"location_id\"]) \\\n",
    "    .select(\"department_id\", \"street_address\", \"employee_id\", \"first_name\", \"last_name\", \"hire_date\")\n",
    "\n",
    "w2 = Window.partitionBy(\"department_id\").orderBy(col(\"hire_date\"))\n",
    "df.withColumn(\"row\", row_number().over(w2)).filter(col(\"row\") == 1).drop(\"row\").show()"
   ]
  },
  {
   "cell_type": "code",
   "execution_count": 133,
   "metadata": {},
   "outputs": [
    {
     "name": "stdout",
     "output_type": "stream",
     "text": [
      "{'011': 35, '650': 45, '515': 21, '603': 1, '590': 5}\n"
     ]
    }
   ],
   "source": [
    "df1 = employees.rdd.map(lambda x: (x[0], x[4].split(\".\")[0])).toDF().withColumnRenamed(\"_1\", \"employee_id\")\n",
    "df2 = dict(employees.join(df1, [\"employee_id\"]).groupBy(df1[1]).count().rdd.map(lambda x: [x[0], x[1]]).collect())\n",
    "print(df2)"
   ]
  },
  {
   "cell_type": "code",
   "execution_count": 152,
   "metadata": {},
   "outputs": [
    {
     "ename": "NameError",
     "evalue": "name 'count' is not defined",
     "output_type": "error",
     "traceback": [
      "\u001b[1;31m---------------------------------------------------------------------------\u001b[0m",
      "\u001b[1;31mNameError\u001b[0m                                 Traceback (most recent call last)",
      "Cell \u001b[1;32mIn[152], line 4\u001b[0m\n\u001b[0;32m      1\u001b[0m df \u001b[38;5;241m=\u001b[39m employees\u001b[38;5;241m.\u001b[39mjoin(department, [\u001b[38;5;124m\"\u001b[39m\u001b[38;5;124mdepartment_id\u001b[39m\u001b[38;5;124m\"\u001b[39m])\u001b[38;5;241m.\u001b[39mjoin(locations, [\u001b[38;5;124m\"\u001b[39m\u001b[38;5;124mlocation_id\u001b[39m\u001b[38;5;124m\"\u001b[39m])\n\u001b[0;32m      3\u001b[0m w2 \u001b[38;5;241m=\u001b[39m Window\u001b[38;5;241m.\u001b[39mpartitionBy(\u001b[38;5;124m\"\u001b[39m\u001b[38;5;124mcity\u001b[39m\u001b[38;5;124m\"\u001b[39m)\u001b[38;5;241m.\u001b[39morderBy(col(\u001b[38;5;124m\"\u001b[39m\u001b[38;5;124msalary\u001b[39m\u001b[38;5;124m\"\u001b[39m)\u001b[38;5;241m.\u001b[39mdesc())\n\u001b[1;32m----> 4\u001b[0m ndf \u001b[38;5;241m=\u001b[39m df\u001b[38;5;241m.\u001b[39mgroupBy(\u001b[38;5;124m\"\u001b[39m\u001b[38;5;124mcity\u001b[39m\u001b[38;5;124m\"\u001b[39m)\u001b[38;5;241m.\u001b[39magg(\u001b[43mcount\u001b[49m(\u001b[38;5;124m\"\u001b[39m\u001b[38;5;124msalary\u001b[39m\u001b[38;5;124m\"\u001b[39m))\n\u001b[0;32m      5\u001b[0m df \u001b[38;5;241m=\u001b[39m df\u001b[38;5;241m.\u001b[39mjoin(ndf, [\u001b[38;5;124m\"\u001b[39m\u001b[38;5;124mcity\u001b[39m\u001b[38;5;124m\"\u001b[39m])\n\u001b[0;32m      6\u001b[0m df\u001b[38;5;241m.\u001b[39mwithColumn(\u001b[38;5;124m\"\u001b[39m\u001b[38;5;124mrow\u001b[39m\u001b[38;5;124m\"\u001b[39m, row_number()\u001b[38;5;241m.\u001b[39mover(w2))\u001b[38;5;241m.\u001b[39mfilter(col(\u001b[38;5;124m\"\u001b[39m\u001b[38;5;124mrow\u001b[39m\u001b[38;5;124m\"\u001b[39m) \u001b[38;5;241m==\u001b[39m \u001b[38;5;241m1\u001b[39m)\u001b[38;5;241m.\u001b[39mdrop(\u001b[38;5;124m\"\u001b[39m\u001b[38;5;124mrow\u001b[39m\u001b[38;5;124m\"\u001b[39m) \\\n\u001b[0;32m      7\u001b[0m     \u001b[38;5;241m.\u001b[39mselect(\u001b[38;5;124m\"\u001b[39m\u001b[38;5;124mcity\u001b[39m\u001b[38;5;124m\"\u001b[39m, \u001b[38;5;124m\"\u001b[39m\u001b[38;5;124memployee_id\u001b[39m\u001b[38;5;124m\"\u001b[39m, \u001b[38;5;124m\"\u001b[39m\u001b[38;5;124mhire_date\u001b[39m\u001b[38;5;124m\"\u001b[39m, \u001b[38;5;124m\"\u001b[39m\u001b[38;5;124msalary\u001b[39m\u001b[38;5;124m\"\u001b[39m, \u001b[38;5;124m\"\u001b[39m\u001b[38;5;124msum(salary)\u001b[39m\u001b[38;5;124m\"\u001b[39m)\u001b[38;5;241m.\u001b[39mshow()\n",
      "\u001b[1;31mNameError\u001b[0m: name 'count' is not defined"
     ]
    }
   ],
   "source": [
    "df = employees.join(department, [\"department_id\"]).join(locations, [\"location_id\"])\n",
    "\n",
    "w2 = Window.partitionBy(\"city\").orderBy(col(\"salary\").desc())\n",
    "ndf = df.groupBy(\"city\").agg(count(\"salary\"))\n",
    "df = df.join(ndf, [\"city\"])\n",
    "df.withColumn(\"row\", row_number().over(w2)).filter(col(\"row\") == 1).drop(\"row\") \\\n",
    "    .select(\"city\", \"employee_id\", \"hire_date\", \"salary\", \"sum(salary)\").show()"
   ]
  },
  {
   "cell_type": "code",
   "execution_count": null,
   "metadata": {},
   "outputs": [],
   "source": []
  }
 ],
 "metadata": {
  "kernelspec": {
   "display_name": "Python 3 (ipykernel)",
   "language": "python",
   "name": "python3"
  },
  "language_info": {
   "codemirror_mode": {
    "name": "ipython",
    "version": 3
   },
   "file_extension": ".py",
   "mimetype": "text/x-python",
   "name": "python",
   "nbconvert_exporter": "python",
   "pygments_lexer": "ipython3",
   "version": "3.10.8"
  }
 },
 "nbformat": 4,
 "nbformat_minor": 2
}

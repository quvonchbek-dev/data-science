{
 "cells": [
  {
   "cell_type": "markdown",
   "id": "e7115faa",
   "metadata": {},
   "source": [
    "## Запрос №2\n",
    "Напишите запрос, выбирающий информацию об имени и фамилии \n",
    "сотрудника, названии отдела, в котором он работает, и стране, в которой он \n",
    "размещён. При этом запрос должен выбирать только информацию о\n",
    "сотрудниках из соединенных штатов, работающих в отделах «Shipping» и \n",
    "«Finance»."
   ]
  },
  {
   "cell_type": "code",
   "execution_count": 1,
   "id": "a6a34bb6",
   "metadata": {},
   "outputs": [
    {
     "name": "stdout",
     "output_type": "stream",
     "text": [
      "+-----------+---------+---------------+------------------------+\n",
      "|first_name |last_name|department_name|country_name            |\n",
      "+-----------+---------+---------------+------------------------+\n",
      "|Nancy      |Greenberg|Finance        |United States of America|\n",
      "|Daniel     |Faviet   |Finance        |United States of America|\n",
      "|John       |Chen     |Finance        |United States of America|\n",
      "|Ismael     |Sciarra  |Finance        |United States of America|\n",
      "|Jose Manuel|Urman    |Finance        |United States of America|\n",
      "|Luis       |Popp     |Finance        |United States of America|\n",
      "|Matthew    |Weiss    |Shipping       |United States of America|\n",
      "|Adam       |Fripp    |Shipping       |United States of America|\n",
      "|Payam      |Kaufling |Shipping       |United States of America|\n",
      "|Shanta     |Vollman  |Shipping       |United States of America|\n",
      "|Kevin      |Mourgos  |Shipping       |United States of America|\n",
      "+-----------+---------+---------------+------------------------+\n",
      "only showing top 11 rows\n",
      "\n"
     ]
    }
   ],
   "source": [
    "from pyspark.sql import SparkSession\n",
    "\n",
    "spark = SparkSession.builder.master('local').getOrCreate()\n",
    "\n",
    "depDf = spark.read.parquet('data/department.parquet')\n",
    "locDf = spark.read.parquet('data/locations.parquet')\n",
    "cntryDf = spark.read.parquet('data/countries.parquet')\n",
    "empDf = spark.read.parquet('data/employees.parquet')\n",
    "\n",
    "df = empDf.join(depDf, empDf.department_id == depDf.department_id, \"inner\")\n",
    "df = df.join(locDf, df.location_id == locDf.location_id, \"inner\")\n",
    "df = df.join(cntryDf, df.country_id == cntryDf.country_id, \"inner\")\n",
    "df.filter(\"country_name='United States of America'\") \\\n",
    "    .filter((df.department_name == 'Shipping') | (df.department_name == 'Finance')) \\\n",
    "    .select(\"first_name\", \"last_name\", \"department_name\", \"country_name\").show(11, truncate=False)\n"
   ]
  },
  {
   "cell_type": "code",
   "execution_count": null,
   "id": "b40491bb",
   "metadata": {},
   "outputs": [],
   "source": []
  }
 ],
 "metadata": {
  "kernelspec": {
   "display_name": "Python 3 (ipykernel)",
   "language": "python",
   "name": "python3"
  },
  "language_info": {
   "codemirror_mode": {
    "name": "ipython",
    "version": 3
   },
   "file_extension": ".py",
   "mimetype": "text/x-python",
   "name": "python",
   "nbconvert_exporter": "python",
   "pygments_lexer": "ipython3",
   "version": "3.10.8"
  }
 },
 "nbformat": 4,
 "nbformat_minor": 5
}

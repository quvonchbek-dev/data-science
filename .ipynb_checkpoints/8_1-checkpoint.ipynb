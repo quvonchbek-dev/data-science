{
 "cells": [
  {
   "cell_type": "markdown",
   "id": "f8808337",
   "metadata": {},
   "source": [
    "# Запрос №1\n",
    "Напишите запрос, выбирающий информацию об имени и фамилии \n",
    "сотрудника (таблица employees), а также о названии отдела, в котором он \n",
    "работает (таблица departments). При этом выберите только сотрудников\n",
    "отдела IT"
   ]
  },
  {
   "cell_type": "code",
   "execution_count": 1,
   "id": "d96ab0e7",
   "metadata": {},
   "outputs": [
    {
     "name": "stdout",
     "output_type": "stream",
     "text": [
      "+----------+---------+------+--------------------+\n",
      "|first_name|last_name|salary|job_title           |\n",
      "+----------+---------+------+--------------------+\n",
      "|Sundita   |Kumar    |6100.0|Sales Representative|\n",
      "|Amit      |Banda    |6200.0|Sales Representative|\n",
      "|Charles   |Johnson  |6200.0|Sales Representative|\n",
      "|Sundar    |Ande     |6400.0|Sales Representative|\n",
      "|David     |Lee      |6800.0|Sales Representative|\n",
      "|Kimberely |Grant    |7000.0|Sales Representative|\n",
      "|Oliver    |Tuvault  |7000.0|Sales Representative|\n",
      "|Sarath    |Sewall   |7000.0|Sales Representative|\n",
      "|Mattea    |Marvins  |7200.0|Sales Representative|\n",
      "|Elizabeth |Bates    |7300.0|Sales Representative|\n",
      "|William   |Smith    |7400.0|Sales Representative|\n",
      "+----------+---------+------+--------------------+\n",
      "only showing top 11 rows\n",
      "\n"
     ]
    }
   ],
   "source": [
    "from pyspark.sql import SparkSession\n",
    "\n",
    "spark = SparkSession.builder.master('local').getOrCreate()\n",
    "\n",
    "jobDf = spark.read.parquet('data/jobs.parquet')\n",
    "empDf = spark.read.parquet('data/employees.parquet')\n",
    "df = empDf.join(jobDf, empDf.job_id == jobDf.job_id, \"inner\") \\\n",
    "    .filter(\"job_title='Sales Representative'\").sort(\"salary\", \"first_name\")\n",
    "df.select(\"first_name\", \"last_name\", \"salary\", \"job_title\").show(11, truncate=False)\n"
   ]
  },
  {
   "cell_type": "code",
   "execution_count": null,
   "id": "5e7151dc",
   "metadata": {},
   "outputs": [],
   "source": []
  }
 ],
 "metadata": {
  "kernelspec": {
   "display_name": "Python 3 (ipykernel)",
   "language": "python",
   "name": "python3"
  },
  "language_info": {
   "codemirror_mode": {
    "name": "ipython",
    "version": 3
   },
   "file_extension": ".py",
   "mimetype": "text/x-python",
   "name": "python",
   "nbconvert_exporter": "python",
   "pygments_lexer": "ipython3",
   "version": "3.10.8"
  }
 },
 "nbformat": 4,
 "nbformat_minor": 5
}

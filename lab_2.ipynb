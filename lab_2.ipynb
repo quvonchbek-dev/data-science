{
 "cells": [
  {
   "cell_type": "code",
   "execution_count": 157,
   "metadata": {},
   "outputs": [],
   "source": [
    "from pyspark.sql import SparkSession\n",
    "\n",
    "from pyspark.sql.window import Window\n",
    "from pyspark.sql.functions import col, row_number, sum, count\n",
    "\n",
    "spark = SparkSession.builder.master('local').getOrCreate()"
   ]
  },
  {
   "cell_type": "code",
   "execution_count": 129,
   "metadata": {},
   "outputs": [],
   "source": [
    "employees = spark.read.parquet(\"data/employees.parquet\")\n",
    "job_history = spark.read.parquet(\"data/job_history.parquet\")\n",
    "department = spark.read.parquet(\"data/department.parquet\")\n",
    "jobs = spark.read.parquet(\"data/jobs.parquet\")\n",
    "locations = spark.read.parquet(\"data/locations.parquet\")\n",
    "countries = spark.read.parquet(\"data/countries.parquet\")\n",
    "regions = spark.read.parquet(\"data/regions.parquet\")"
   ]
  },
  {
   "cell_type": "code",
   "execution_count": 130,
   "metadata": {},
   "outputs": [],
   "source": [
    "employees.createOrReplaceTempView(\"employees\")\n",
    "job_history.createOrReplaceTempView(\"job_history\")\n",
    "department.createOrReplaceTempView(\"department\")\n",
    "jobs.createOrReplaceTempView(\"jobs\")\n",
    "locations.createOrReplaceTempView(\"locations\")\n",
    "countries.createOrReplaceTempView(\"countries\")\n",
    "regions.createOrReplaceTempView(\"regions\")"
   ]
  },
  {
   "cell_type": "code",
   "execution_count": 131,
   "metadata": {},
   "outputs": [
    {
     "name": "stdout",
     "output_type": "stream",
     "text": [
      "root\n",
      " |-- location_id: integer (nullable = true)\n",
      " |-- street_address: string (nullable = true)\n",
      " |-- postal_code: string (nullable = true)\n",
      " |-- city: string (nullable = true)\n",
      " |-- state_province: string (nullable = true)\n",
      " |-- country_id: string (nullable = true)\n",
      "\n"
     ]
    }
   ],
   "source": [
    "locations.printSchema()"
   ]
  },
  {
   "cell_type": "code",
   "execution_count": 132,
   "metadata": {},
   "outputs": [
    {
     "name": "stdout",
     "output_type": "stream",
     "text": [
      "+-------------+--------------------+-----------+-----------+---------+----------+\n",
      "|department_id|      street_address|employee_id| first_name|last_name| hire_date|\n",
      "+-------------+--------------------+-----------+-----------+---------+----------+\n",
      "|           10|     2004 Charade Rd|        200|   Jennifer|   Whalen|17.09.2003|\n",
      "|           20|     147 Spadina Ave|        201|    Michael|Hartstein|17.02.2004|\n",
      "|           30|     2004 Charade Rd|        114|        Den| Raphaely|07.12.2002|\n",
      "|           40|      8204 Arthur St|        203|      Susan|   Mavris|07.06.2002|\n",
      "|           50| 2011 Interiors Blvd|        122|      Payam| Kaufling|01.05.2003|\n",
      "|           60| 2014 Jabberwocky Rd|        103|  Alexander|   Hunold|03.01.2006|\n",
      "|           70|Schwanthalerstr. ...|        204|    Hermann|     Baer|07.06.2002|\n",
      "|           80|Magdalen Centre, ...|        158|      Allan|   McEwen|01.08.2004|\n",
      "|           90|     2004 Charade Rd|        102|        Lex|  De Haan|13.01.2001|\n",
      "|          100|     2004 Charade Rd|        112|Jose Manuel|    Urman|07.03.2006|\n",
      "|          110|     2004 Charade Rd|        205|    Shelley|  Higgins|07.06.2002|\n",
      "+-------------+--------------------+-----------+-----------+---------+----------+\n",
      "\n"
     ]
    }
   ],
   "source": [
    "df = employees.join(department, [\"department_id\"]).join(locations, [\"location_id\"]) \\\n",
    "    .select(\"department_id\", \"street_address\", \"employee_id\", \"first_name\", \"last_name\", \"hire_date\")\n",
    "\n",
    "w2 = Window.partitionBy(\"department_id\").orderBy(col(\"hire_date\"))\n",
    "df.withColumn(\"row\", row_number().over(w2)).filter(col(\"row\") == 1).drop(\"row\").show()"
   ]
  },
  {
   "cell_type": "code",
   "execution_count": 133,
   "metadata": {},
   "outputs": [
    {
     "name": "stdout",
     "output_type": "stream",
     "text": [
      "{'011': 35, '650': 45, '515': 21, '603': 1, '590': 5}\n"
     ]
    }
   ],
   "source": [
    "df1 = employees.rdd.map(lambda x: (x[0], x[4].split(\".\")[0])).toDF().withColumnRenamed(\"_1\", \"employee_id\")\n",
    "df2 = dict(employees.join(df1, [\"employee_id\"]).groupBy(df1[1]).count().rdd.map(lambda x: [x[0], x[1]]).collect())\n",
    "print(df2)"
   ]
  },
  {
   "cell_type": "code",
   "execution_count": 158,
   "metadata": {},
   "outputs": [
    {
     "name": "stdout",
     "output_type": "stream",
     "text": [
      "+-------------------+-----------+----------+-----+-------+------------+\n",
      "|               city|employee_id| hire_date|count| salary|total_salary|\n",
      "+-------------------+-----------+----------+-----+-------+------------+\n",
      "|             London|        203|07.06.2002|    1| 6500.0|      6500.0|\n",
      "|             Munich|        204|07.06.2002|    1|10000.0|     10000.0|\n",
      "|             Oxford|        145|01.10.2004|   34|14000.0|    304500.0|\n",
      "|            Seattle|        100|17.06.2003|   18|24000.0|    159216.0|\n",
      "|South San Francisco|        121|10.04.2005|   45| 8200.0|    156400.0|\n",
      "|          Southlake|        103|03.01.2006|    5| 9000.0|     28800.0|\n",
      "|            Toronto|        201|17.02.2004|    2|13000.0|     19000.0|\n",
      "+-------------------+-----------+----------+-----+-------+------------+\n",
      "\n"
     ]
    }
   ],
   "source": [
    "df = employees.join(department, [\"department_id\"]).join(locations, [\"location_id\"])\n",
    "\n",
    "w2 = Window.partitionBy(\"city\").orderBy(col(\"salary\").desc())\n",
    "ndf = df.groupBy(\"city\").agg(count(df.salary).alias(\"count\"), sum(df.salary).alias(\"total_salary\"))\n",
    "df = df.join(ndf, [\"city\"])\n",
    "df.withColumn(\"row\", row_number().over(w2)).filter(col(\"row\") == 1).drop(\"row\") \\\n",
    "    .select(\"city\", \"employee_id\", \"hire_date\", \"count\", \"salary\", \"total_salary\").show()"
   ]
  },
  {
   "cell_type": "code",
   "execution_count": null,
   "metadata": {},
   "outputs": [],
   "source": []
  }
 ],
 "metadata": {
  "kernelspec": {
   "display_name": "Python 3 (ipykernel)",
   "language": "python",
   "name": "python3"
  },
  "language_info": {
   "codemirror_mode": {
    "name": "ipython",
    "version": 3
   },
   "file_extension": ".py",
   "mimetype": "text/x-python",
   "name": "python",
   "nbconvert_exporter": "python",
   "pygments_lexer": "ipython3",
   "version": "3.10.8"
  }
 },
 "nbformat": 4,
 "nbformat_minor": 2
}

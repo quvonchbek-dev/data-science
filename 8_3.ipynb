{
 "cells": [
  {
   "attachments": {},
   "cell_type": "markdown",
   "id": "57f924ed",
   "metadata": {},
   "source": [
    "## Запрос №3\n",
    "\n",
    "Напишите запрос, выбирающий информацию по всем служащим,\n",
    "нанятым раньше своих менеджеров. При этом выведите фамилии и даты\n",
    "найма самих служащих, а также фамилии и даты найма их менеджеров.\n",
    "Пример возможного результата выполнения запроса представлен в\n",
    "таблице ниже. Поля должны называться так же, как указано в примере.\n"
   ]
  },
  {
   "cell_type": "code",
   "execution_count": 13,
   "id": "fa06ff64",
   "metadata": {},
   "outputs": [
    {
     "name": "stdout",
     "output_type": "stream",
     "text": [
      "root\n",
      " |-- employee_id: integer (nullable = true)\n",
      " |-- first_name: string (nullable = true)\n",
      " |-- last_name: string (nullable = true)\n",
      " |-- email: string (nullable = true)\n",
      " |-- phone_number: string (nullable = true)\n",
      " |-- hire_date: date (nullable = true)\n",
      " |-- job_id: string (nullable = true)\n",
      " |-- salary: float (nullable = true)\n",
      " |-- commission_pct: string (nullable = true)\n",
      " |-- manager_id: integer (nullable = true)\n",
      " |-- department_id: integer (nullable = true)\n",
      "\n",
      "+---------+----------+---------+----------+\n",
      "|Фамилия_Р|    Дата_Р|Фамилия_М|    Дата_М|\n",
      "+---------+----------+---------+----------+\n",
      "|   Faviet|16.08.2002|Greenberg|17.08.2002|\n",
      "| Raphaely|07.12.2002|     King|17.06.2003|\n",
      "|  De Haan|13.01.2001|     King|17.06.2003|\n",
      "| Kaufling|01.05.2003|     King|17.06.2003|\n",
      "|    Sully|04.03.2004| Partners|05.01.2005|\n",
      "|   McEwen|01.08.2004| Partners|05.01.2005|\n",
      "|     King|30.01.2004| Partners|05.01.2005|\n",
      "|   Marlow|16.02.2005|    Fripp|10.04.2005|\n",
      "|     Bull|20.02.2005|    Fripp|10.04.2005|\n",
      "| Sarchand|27.01.2004|    Fripp|10.04.2005|\n",
      "|   Whalen|17.09.2003|  Kochhar|21.09.2005|\n",
      "|   Mavris|07.06.2002|  Kochhar|21.09.2005|\n",
      "|     Baer|07.06.2002|  Kochhar|21.09.2005|\n",
      "|  Higgins|07.06.2002|  Kochhar|21.09.2005|\n",
      "|Greenberg|17.08.2002|  Kochhar|21.09.2005|\n",
      "|     Bell|04.02.2004|  Vollman|10.10.2005|\n",
      "|  Everett|03.03.2005|  Vollman|10.10.2005|\n",
      "|   Ladwig|14.07.2003|  Vollman|10.10.2005|\n",
      "|   Austin|25.06.2005|   Hunold|03.01.2006|\n",
      "|     Ozer|11.03.2005|Cambrault|15.10.2007|\n",
      "+---------+----------+---------+----------+\n",
      "only showing top 20 rows\n",
      "\n"
     ]
    }
   ],
   "source": [
    "from pyspark.sql import SparkSession\n",
    "from pyspark.sql.functions import col, to_date, date_format\n",
    "\n",
    "\n",
    "spark = SparkSession.builder.master(\"local\").getOrCreate()\n",
    "fmt = \"dd.MM.yyyy\"\n",
    "empDf = spark.read.parquet(\"data/employees.parquet\").withColumn(\n",
    "    \"hire_date\", to_date(col(\"hire_date\"), fmt)\n",
    ")\n",
    "# empDf.printSchema()\n",
    "\n",
    "df = (\n",
    "    empDf.select(\"manager_id\", \"last_name\", \"hire_date\")\n",
    "    .withColumnRenamed(\"last_name\", \"Фамилия_Р\")\n",
    "    .withColumnRenamed(\"hire_date\", \"date_w\")\n",
    ")\n",
    "df2 = empDf.select(\"employee_id\", \"last_name\", \"hire_date\")\n",
    "(\n",
    "    df.join(df2, df.manager_id == df2.employee_id)\n",
    "    .orderBy(col(\"hire_date\"))\n",
    "    .filter(col(\"hire_date\") > col(\"date_w\"))\n",
    "    .select(\n",
    "        \"Фамилия_Р\",\n",
    "        date_format(col(\"date_w\"), fmt).alias(\"Дата_Р\"),\n",
    "        col(\"last_name\").alias(\"Фамилия_М\"),\n",
    "        date_format(col(\"hire_date\"), fmt).alias(\"Дата_М\"),\n",
    "    )\n",
    ").show()"
   ]
  }
 ],
 "metadata": {
  "kernelspec": {
   "display_name": "venv",
   "language": "python",
   "name": "python3"
  },
  "language_info": {
   "codemirror_mode": {
    "name": "ipython",
    "version": 3
   },
   "file_extension": ".py",
   "mimetype": "text/x-python",
   "name": "python",
   "nbconvert_exporter": "python",
   "pygments_lexer": "ipython3",
   "version": "3.10.8 (tags/v3.10.8:aaaf517, Oct 11 2022, 16:50:30) [MSC v.1933 64 bit (AMD64)]"
  },
  "vscode": {
   "interpreter": {
    "hash": "b389a781dfbb23638dad46b0ca61526fcae620ed023e26de210f45ecc9d3123a"
   }
  }
 },
 "nbformat": 4,
 "nbformat_minor": 5
}

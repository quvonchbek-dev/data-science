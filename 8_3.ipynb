{
 "cells": [
  {
   "cell_type": "markdown",
   "id": "57f924ed",
   "metadata": {},
   "source": [
    "## Запрос №3\n",
    "Напишите запрос, выбирающий информацию по всем служащим, \n",
    "нанятым раньше своих менеджеров. При этом выведите фамилии и даты \n",
    "найма самих служащих, а также фамилии и даты найма их менеджеров. \n",
    "Пример возможного результата выполнения запроса представлен в \n",
    "таблице ниже. Поля должны называться так же, как указано в примере."
   ]
  },
  {
   "cell_type": "code",
   "execution_count": 2,
   "id": "fa06ff64",
   "metadata": {},
   "outputs": [
    {
     "name": "stdout",
     "output_type": "stream",
     "text": [
      "+---------+----------+---------+----------+\n",
      "|Фамилия_Р|Дата_Р    |Фамилия_М|Дата_М    |\n",
      "+---------+----------+---------+----------+\n",
      "|De Haan  |13.01.2001|King     |17.06.2003|\n",
      "|Hunold   |03.01.2006|De Haan  |13.01.2001|\n",
      "|Greenberg|17.08.2002|Kochhar  |21.09.2005|\n",
      "|Faviet   |16.08.2002|Greenberg|17.08.2002|\n",
      "|Urman    |07.03.2006|Greenberg|17.08.2002|\n",
      "|Popp     |07.12.2007|Greenberg|17.08.2002|\n",
      "|Raphaely |07.12.2002|King     |17.06.2003|\n",
      "|Fripp    |10.04.2005|King     |17.06.2003|\n",
      "|Kaufling |01.05.2003|King     |17.06.2003|\n",
      "|Vollman  |10.10.2005|King     |17.06.2003|\n",
      "|Mourgos  |16.11.2007|King     |17.06.2003|\n",
      "|Nayer    |16.07.2005|Weiss    |18.07.2004|\n",
      "|Landry   |14.01.2007|Weiss    |18.07.2004|\n",
      "|Markle   |08.03.2008|Weiss    |18.07.2004|\n",
      "|Patel    |06.04.2006|Vollman  |10.10.2005|\n",
      "|Matos    |15.03.2006|Mourgos  |16.11.2007|\n",
      "|Vargas   |09.07.2006|Mourgos  |16.11.2007|\n",
      "|Russell  |01.10.2004|King     |17.06.2003|\n",
      "|Partners |05.01.2005|King     |17.06.2003|\n",
      "|Errazuriz|10.03.2005|King     |17.06.2003|\n",
      "+---------+----------+---------+----------+\n",
      "only showing top 20 rows\n",
      "\n"
     ]
    }
   ],
   "source": [
    "from pyspark.sql import SparkSession\n",
    "from pyspark.sql.functions import udf, col\n",
    "from pyspark.sql.types import BooleanType\n",
    "\n",
    "spark = SparkSession.builder.master('local').getOrCreate()\n",
    "\n",
    "empDf = spark.read.parquet('data/employees.parquet')\n",
    "\n",
    "cmp = udf(lambda a, b: tuple(map(int, a.split('.'))) < tuple(map(int, b.split('.'))), BooleanType())\n",
    "\n",
    "df = empDf.withColumnRenamed(\"last_name\", \"Фамилия_Р\").withColumnRenamed(\"hire_date\", \"dt_w\")\n",
    "df2 = empDf.select(\"employee_id\", \"last_name\", \"hire_date\")\n",
    "df = df.join(df2, df.manager_id == df2.employee_id, \"inner\") \\\n",
    "    .where(cmp(col(\"dt_w\"), col(\"hire_date\"))).withColumnRenamed(\"last_name\", \"Фамилия_М\") \\\n",
    "    .withColumnRenamed(\"hire_date\", \"Дата_М\").withColumnRenamed(\"dt_w\", \"Дата_Р\")\n",
    "df.select(\"Фамилия_Р\", \"Дата_Р\", \"Фамилия_М\", \"Дата_М\").show(truncate=False)\n"
   ]
  },
  {
   "cell_type": "code",
   "execution_count": null,
   "id": "e2af189a",
   "metadata": {},
   "outputs": [],
   "source": []
  }
 ],
 "metadata": {
  "kernelspec": {
   "display_name": "Python 3 (ipykernel)",
   "language": "python",
   "name": "python3"
  },
  "language_info": {
   "codemirror_mode": {
    "name": "ipython",
    "version": 3
   },
   "file_extension": ".py",
   "mimetype": "text/x-python",
   "name": "python",
   "nbconvert_exporter": "python",
   "pygments_lexer": "ipython3",
   "version": "3.10.8"
  }
 },
 "nbformat": 4,
 "nbformat_minor": 5
}

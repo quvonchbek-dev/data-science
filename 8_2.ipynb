{
 "cells": [
  {
   "cell_type": "markdown",
   "id": "e7115faa",
   "metadata": {},
   "source": [
    "## Запрос №2\n",
    "Напишите запрос, выбирающий информацию об имени и фамилии \n",
    "сотрудника, названии отдела, в котором он работает, и стране, в которой он \n",
    "размещён. При этом запрос должен выбирать только информацию о\n",
    "сотрудниках из соединенных штатов, работающих в отделах «Shipping» и \n",
    "«Finance»."
   ]
  },
  {
   "cell_type": "code",
   "execution_count": 2,
   "id": "a6a34bb6",
   "metadata": {},
   "outputs": [
    {
     "name": "stdout",
     "output_type": "stream",
     "text": [
      "+-----------+-----------+---------------+------------------------+\n",
      "|first_name |last_name  |department_name|country_name            |\n",
      "+-----------+-----------+---------------+------------------------+\n",
      "|Nancy      |Greenberg  |Finance        |United States of America|\n",
      "|Daniel     |Faviet     |Finance        |United States of America|\n",
      "|John       |Chen       |Finance        |United States of America|\n",
      "|Ismael     |Sciarra    |Finance        |United States of America|\n",
      "|Jose Manuel|Urman      |Finance        |United States of America|\n",
      "|Luis       |Popp       |Finance        |United States of America|\n",
      "|Matthew    |Weiss      |Shipping       |United States of America|\n",
      "|Adam       |Fripp      |Shipping       |United States of America|\n",
      "|Payam      |Kaufling   |Shipping       |United States of America|\n",
      "|Shanta     |Vollman    |Shipping       |United States of America|\n",
      "|Kevin      |Mourgos    |Shipping       |United States of America|\n",
      "|Julia      |Nayer      |Shipping       |United States of America|\n",
      "|Irene      |Mikkilineni|Shipping       |United States of America|\n",
      "|James      |Landry     |Shipping       |United States of America|\n",
      "|Steven     |Markle     |Shipping       |United States of America|\n",
      "|Laura      |Bissot     |Shipping       |United States of America|\n",
      "|Mozhe      |Atkinson   |Shipping       |United States of America|\n",
      "|James      |Marlow     |Shipping       |United States of America|\n",
      "|TJ         |Olson      |Shipping       |United States of America|\n",
      "|Jason      |Mallin     |Shipping       |United States of America|\n",
      "+-----------+-----------+---------------+------------------------+\n",
      "only showing top 20 rows\n",
      "\n"
     ]
    }
   ],
   "source": [
    "from pyspark.sql import SparkSession\n",
    "\n",
    "spark = SparkSession.builder.master('local').getOrCreate()\n",
    "\n",
    "depDf = spark.read.parquet('data/department.parquet')\n",
    "locDf = spark.read.parquet('data/locations.parquet')\n",
    "cntryDf = spark.read.parquet('data/countries.parquet')\n",
    "empDf = spark.read.parquet('data/employees.parquet')\n",
    "\n",
    "df = empDf.join(depDf, ['department_id'])\n",
    "df = df.join(locDf, ['location_id'])\n",
    "df = df.join(cntryDf, ['country_id'])\n",
    "df.filter(\"country_name='United States of America'\") \\\n",
    "    .filter((df.department_name == 'Shipping') | (df.department_name == 'Finance')) \\\n",
    "    .select(\"first_name\", \"last_name\", \"department_name\", \"country_name\").show(20, truncate=False)\n"
   ]
  },
  {
   "cell_type": "code",
   "execution_count": null,
   "id": "d1e52c06",
   "metadata": {},
   "outputs": [],
   "source": []
  }
 ],
 "metadata": {
  "kernelspec": {
   "display_name": "venv",
   "language": "python",
   "name": "python3"
  },
  "language_info": {
   "codemirror_mode": {
    "name": "ipython",
    "version": 3
   },
   "file_extension": ".py",
   "mimetype": "text/x-python",
   "name": "python",
   "nbconvert_exporter": "python",
   "pygments_lexer": "ipython3",
   "version": "3.10.8"
  },
  "vscode": {
   "interpreter": {
    "hash": "b389a781dfbb23638dad46b0ca61526fcae620ed023e26de210f45ecc9d3123a"
   }
  }
 },
 "nbformat": 4,
 "nbformat_minor": 5
}
